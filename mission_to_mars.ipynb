{
 "cells": [
  {
   "cell_type": "code",
   "execution_count": 1,
   "metadata": {},
   "outputs": [],
   "source": [
    "from splinter import Browser\n",
    "from bs4 import BeautifulSoup as bs\n",
    "import requests"
   ]
  },
  {
   "cell_type": "code",
   "execution_count": 2,
   "metadata": {},
   "outputs": [],
   "source": [
    "# Initialize browser\n",
    "def init_browser():\n",
    "    # @NOTE: Replace the path with your actual path to the chromedriver\n",
    "    executable_path = {\"executable_path\": \"chromedriver\"}\n",
    "    return Browser(\"chrome\", **executable_path, headless=False)"
   ]
  },
  {
   "cell_type": "markdown",
   "metadata": {},
   "source": [
    "### NASA Mars News scraping"
   ]
  },
  {
   "cell_type": "code",
   "execution_count": 3,
   "metadata": {},
   "outputs": [],
   "source": [
    "browser = init_browser()       # Initialize browser\n",
    "# Visit NASA Mars News Site  collect the latest News Title and Paragraph Text\n",
    "url=\"https://mars.nasa.gov/news/\"\n",
    "browser.visit(url)\n",
    "html=browser.html\n",
    "    # Scrape page into soup\n",
    "soup=bs(html,\"html.parser\")"
   ]
  },
  {
   "cell_type": "code",
   "execution_count": 4,
   "metadata": {},
   "outputs": [
    {
     "data": {
      "text/plain": [
       "'Curiosity on the Move Again'"
      ]
     },
     "execution_count": 4,
     "metadata": {},
     "output_type": "execute_result"
    }
   ],
   "source": [
    "# get the most recent news title and teaser\n",
    "latest_news = soup.find('li', class_=\"slide\")\n",
    "news_title = latest_news.find('div', class_=\"content_title\").text\n",
    "news_title"
   ]
  },
  {
   "cell_type": "code",
   "execution_count": 5,
   "metadata": {},
   "outputs": [
    {
     "data": {
      "text/plain": [
       "\"NASA's Mars Curiosity rover drove about 197 feet over the weekend to a site called Lake Orcadie, pushing its total odometry to over 12 miles.\""
      ]
     },
     "execution_count": 5,
     "metadata": {},
     "output_type": "execute_result"
    }
   ],
   "source": [
    "news_teaser=latest_news.find('div', class_=\"article_teaser_body\").text\n",
    "news_teaser"
   ]
  },
  {
   "cell_type": "code",
   "execution_count": 6,
   "metadata": {},
   "outputs": [
    {
     "data": {
      "text/plain": [
       "'November  6, 2018'"
      ]
     },
     "execution_count": 6,
     "metadata": {},
     "output_type": "execute_result"
    }
   ],
   "source": [
    "news_date=latest_news.find('div', class_=\"list_date\").text\n",
    "news_date"
   ]
  },
  {
   "cell_type": "markdown",
   "metadata": {},
   "source": [
    "### JPL Mars Space Images"
   ]
  },
  {
   "cell_type": "code",
   "execution_count": 8,
   "metadata": {},
   "outputs": [],
   "source": [
    "    # Visit JPL Mars Space Images  Use splinter to navigate the site and find the image url for the current Featured Mars Image\n",
    "base_url=\"https://www.jpl.nasa.gov\"\n",
    "images_url=\"/spaceimages/?search=&category=Mars/\"\n",
    "url=base_url + images_url\n",
    "     # click past first page\n",
    "browser.visit(url)\n",
    "browser.click_link_by_partial_text('FULL IMAGE')\n",
    "browser.click_link_by_partial_text('more info')\n",
    "html=browser.html\n",
    "    # Scrape page into soup \n",
    "soup=bs(html,\"html.parser\")"
   ]
  },
  {
   "cell_type": "code",
   "execution_count": 13,
   "metadata": {},
   "outputs": [
    {
     "name": "stdout",
     "output_type": "stream",
     "text": [
      "https://www.jpl.nasa.gov/spaceimages/images/largesize/PIA19382_hires.jpg\n"
     ]
    }
   ],
   "source": [
    "figure=soup.find('figure',class_='lede')\n",
    "rel_image=figure.find('a')['href']\n",
    "featured_image_url=base_url + rel_image\n",
    "print(featured_image_url)"
   ]
  },
  {
   "cell_type": "markdown",
   "metadata": {},
   "source": [
    "### Mars Weather"
   ]
  },
  {
   "cell_type": "code",
   "execution_count": 14,
   "metadata": {},
   "outputs": [],
   "source": [
    "    # Visit Mars Weather twitter account  scrape the latest Mars weather tweet from the page\n",
    "url=\"https://twitter.com/marswxreport?lang=en\"\n",
    "    # Scrape page into soup\n",
    "browser.visit(url)\n",
    "html=browser.html\n",
    "soup=bs(html,\"html.parser\")"
   ]
  },
  {
   "cell_type": "code",
   "execution_count": 15,
   "metadata": {},
   "outputs": [
    {
     "data": {
      "text/plain": [
       "'Sol 2224 (2018-11-08), high 0C/32F, low -72C/-97F, pressure at 8.65 hPa, daylight 06:19-18:36'"
      ]
     },
     "execution_count": 15,
     "metadata": {},
     "output_type": "execute_result"
    }
   ],
   "source": [
    "mars_weather = soup.find('p', class_=\"TweetTextSize\").text\n",
    "mars_weather"
   ]
  },
  {
   "cell_type": "markdown",
   "metadata": {},
   "source": [
    "### Mars Facts"
   ]
  },
  {
   "cell_type": "code",
   "execution_count": 3,
   "metadata": {},
   "outputs": [],
   "source": [
    "import pandas as pd"
   ]
  },
  {
   "cell_type": "code",
   "execution_count": 4,
   "metadata": {},
   "outputs": [],
   "source": [
    "# Visit Mars Facts webpage  use Pandas to scrape the table of facts about the planet( Diameter, Mass, etc)  \n",
    "url=\"http://space-facts.com/mars/\"\n",
    "    # Scrape page into pandas\n",
    "tables = pd.read_html(url)\n",
    "df=tables[0]"
   ]
  },
  {
   "cell_type": "code",
   "execution_count": 5,
   "metadata": {},
   "outputs": [
    {
     "data": {
      "text/plain": [
       "'<table border=\"1\" class=\"dataframe\">\\n  <thead>\\n    <tr style=\"text-align: right;\">\\n      <th></th>\\n      <th></th>\\n    </tr>\\n    <tr>\\n      <th>Description</th>\\n      <th>Value</th>\\n    </tr>\\n  </thead>\\n  <tbody>\\n    <tr>\\n      <th>Equatorial Diameter:</th>\\n      <th>6,792 km</th>\\n    </tr>\\n    <tr>\\n      <th>Polar Diameter:</th>\\n      <th>6,752 km</th>\\n    </tr>\\n    <tr>\\n      <th>Mass:</th>\\n      <th>6.42 x 10^23 kg (10.7% Earth)</th>\\n    </tr>\\n    <tr>\\n      <th>Moons:</th>\\n      <th>2 (Phobos &amp; Deimos)</th>\\n    </tr>\\n    <tr>\\n      <th>Orbit Distance:</th>\\n      <th>227,943,824 km (1.52 AU)</th>\\n    </tr>\\n    <tr>\\n      <th>Orbit Period:</th>\\n      <th>687 days (1.9 years)</th>\\n    </tr>\\n    <tr>\\n      <th>Surface Temperature:</th>\\n      <th>-153 to 20 °C</th>\\n    </tr>\\n    <tr>\\n      <th>First Record:</th>\\n      <th>2nd millennium BC</th>\\n    </tr>\\n    <tr>\\n      <th>Recorded By:</th>\\n      <th>Egyptian astronomers</th>\\n    </tr>\\n  </tbody>\\n</table>'"
      ]
     },
     "execution_count": 5,
     "metadata": {},
     "output_type": "execute_result"
    }
   ],
   "source": [
    "df_a=df.rename(columns={0:'Description',1:'Value'})\n",
    "df_b=df_a.set_index(['Description','Value'])\n",
    "html_table = df_b.to_html()\n",
    "html_table"
   ]
  },
  {
   "cell_type": "markdown",
   "metadata": {},
   "source": [
    "### Mars Hemispheres"
   ]
  },
  {
   "cell_type": "code",
   "execution_count": 19,
   "metadata": {},
   "outputs": [],
   "source": [
    "    # Visit USGS Astrogeology site  obtain high resolution images for each of Mar's hemispheres.\n",
    "base_url=\"https://astrogeology.usgs.gov\"\n",
    "image_url=\"/search/results?q=hemisphere+enhanced&k1=target&v1=Mars\"\n",
    "url=base_url + image_url\n",
    "    # Scrape page into soup\n",
    "browser.visit(url)\n",
    "hemisphere_image_urls=[]"
   ]
  },
  {
   "cell_type": "code",
   "execution_count": 20,
   "metadata": {},
   "outputs": [
    {
     "name": "stdout",
     "output_type": "stream",
     "text": [
      "https://astrogeology.usgs.gov/cache/images/cfa62af2557222a02478f1fcd781d445_cerberus_enhanced.tif_full.jpg\n",
      "Cerberus Hemisphere Enhanced\n"
     ]
    }
   ],
   "source": [
    "# Cerberus Hemisphere\n",
    "browser.click_link_by_partial_text('Cerberus Hemisphere')\n",
    "html=browser.html\n",
    "soup=bs(html,\"html.parser\")\n",
    "rel_image=soup.find('img',class_=\"wide-image\")['src']\n",
    "image_url=base_url + rel_image\n",
    "print(image_url)\n",
    "image_title=soup.find('h2', class_=\"title\").text\n",
    "print(image_title)\n",
    "#save in dictionary and add to image list\n",
    "image_dict={\"title\":image_title, \"img_url\":image_url}\n",
    "hemisphere_image_urls.append(image_dict)"
   ]
  },
  {
   "cell_type": "code",
   "execution_count": 21,
   "metadata": {},
   "outputs": [
    {
     "name": "stdout",
     "output_type": "stream",
     "text": [
      "https://astrogeology.usgs.gov/cache/images/3cdd1cbf5e0813bba925c9030d13b62e_schiaparelli_enhanced.tif_full.jpg\n",
      "Schiaparelli Hemisphere Enhanced\n"
     ]
    }
   ],
   "source": [
    "# Schiaparelli Hemisphere\n",
    "browser.back()\n",
    "browser.click_link_by_partial_text('Schiaparelli Hemisphere')\n",
    "html=browser.html\n",
    "soup=bs(html,\"html.parser\")\n",
    "rel_image=soup.find('img',class_=\"wide-image\")['src']\n",
    "image_url=base_url + rel_image\n",
    "print(image_url)\n",
    "image_title=soup.find('h2', class_=\"title\").text\n",
    "print(image_title)\n",
    "#save in dictionary and add to image list\n",
    "image_dict={\"title\":image_title, \"img_url\":image_url}\n",
    "hemisphere_image_urls.append(image_dict)"
   ]
  },
  {
   "cell_type": "code",
   "execution_count": 22,
   "metadata": {},
   "outputs": [
    {
     "name": "stdout",
     "output_type": "stream",
     "text": [
      "https://astrogeology.usgs.gov/cache/images/ae209b4e408bb6c3e67b6af38168cf28_syrtis_major_enhanced.tif_full.jpg\n",
      "Syrtis Major Hemisphere Enhanced\n"
     ]
    }
   ],
   "source": [
    "# Syrtis Major Hemisphere\n",
    "browser.back()\n",
    "browser.click_link_by_partial_text('Syrtis Major Hemisphere')\n",
    "html=browser.html\n",
    "soup=bs(html,\"html.parser\")\n",
    "rel_image=soup.find('img',class_=\"wide-image\")['src']\n",
    "image_url=base_url + rel_image\n",
    "print(image_url)\n",
    "image_title=soup.find('h2', class_=\"title\").text\n",
    "print(image_title)\n",
    "#save in dictionary and add to image list\n",
    "image_dict={\"title\":image_title, \"img_url\":image_url}\n",
    "hemisphere_image_urls.append(image_dict)"
   ]
  },
  {
   "cell_type": "code",
   "execution_count": 23,
   "metadata": {},
   "outputs": [
    {
     "name": "stdout",
     "output_type": "stream",
     "text": [
      "https://astrogeology.usgs.gov/cache/images/7cf2da4bf549ed01c17f206327be4db7_valles_marineris_enhanced.tif_full.jpg\n",
      "Valles Marineris Hemisphere Enhanced\n"
     ]
    }
   ],
   "source": [
    "# Valles Marineris Hemisphere\n",
    "browser.back()\n",
    "browser.click_link_by_partial_text('Valles Marineris Hemisphere')\n",
    "html=browser.html\n",
    "soup=bs(html,\"html.parser\")\n",
    "rel_image=soup.find('img',class_=\"wide-image\")['src']\n",
    "image_url=base_url + rel_image\n",
    "print(image_url)\n",
    "image_title=soup.find('h2', class_=\"title\").text\n",
    "print(image_title)\n",
    "image_dict={\"title\":image_title, \"img_url\":image_url}\n",
    "hemisphere_image_urls.append(image_dict)"
   ]
  },
  {
   "cell_type": "code",
   "execution_count": 24,
   "metadata": {},
   "outputs": [
    {
     "name": "stdout",
     "output_type": "stream",
     "text": [
      "[{'title': 'Cerberus Hemisphere Enhanced', 'img_url': 'https://astrogeology.usgs.gov/cache/images/cfa62af2557222a02478f1fcd781d445_cerberus_enhanced.tif_full.jpg'}, {'title': 'Schiaparelli Hemisphere Enhanced', 'img_url': 'https://astrogeology.usgs.gov/cache/images/3cdd1cbf5e0813bba925c9030d13b62e_schiaparelli_enhanced.tif_full.jpg'}, {'title': 'Syrtis Major Hemisphere Enhanced', 'img_url': 'https://astrogeology.usgs.gov/cache/images/ae209b4e408bb6c3e67b6af38168cf28_syrtis_major_enhanced.tif_full.jpg'}, {'title': 'Valles Marineris Hemisphere Enhanced', 'img_url': 'https://astrogeology.usgs.gov/cache/images/7cf2da4bf549ed01c17f206327be4db7_valles_marineris_enhanced.tif_full.jpg'}]\n"
     ]
    }
   ],
   "source": [
    "print(hemisphere_image_urls)"
   ]
  },
  {
   "cell_type": "code",
   "execution_count": 25,
   "metadata": {},
   "outputs": [],
   "source": [
    "browser.quit()"
   ]
  },
  {
   "cell_type": "code",
   "execution_count": null,
   "metadata": {},
   "outputs": [],
   "source": []
  }
 ],
 "metadata": {
  "kernelspec": {
   "display_name": "Python [conda env:PythonData]",
   "language": "python",
   "name": "conda-env-PythonData-py"
  },
  "language_info": {
   "codemirror_mode": {
    "name": "ipython",
    "version": 3
   },
   "file_extension": ".py",
   "mimetype": "text/x-python",
   "name": "python",
   "nbconvert_exporter": "python",
   "pygments_lexer": "ipython3",
   "version": "3.6.5"
  }
 },
 "nbformat": 4,
 "nbformat_minor": 2
}
